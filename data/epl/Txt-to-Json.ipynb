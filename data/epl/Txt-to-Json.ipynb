{
 "cells": [
  {
   "cell_type": "code",
   "execution_count": 6,
   "metadata": {},
   "outputs": [],
   "source": [
    "import json"
   ]
  },
  {
   "cell_type": "code",
   "execution_count": 7,
   "metadata": {},
   "outputs": [],
   "source": [
    "filename = 'train'"
   ]
  },
  {
   "cell_type": "code",
   "execution_count": 8,
   "metadata": {},
   "outputs": [],
   "source": [
    "data = []\n",
    "with open(filename+'.txt', 'rb') as f:\n",
    "    for line in f.readlines():\n",
    "        l=[]\n",
    "        l.append(line.decode().split(' & ')[0])\n",
    "        l.append(line.decode().split(' & ')[1].rstrip('\\n'))\n",
    "        l.append(line.decode().split(' & ')[1].rstrip('\\n'))\n",
    "        data.append(l)"
   ]
  },
  {
   "cell_type": "code",
   "execution_count": 9,
   "metadata": {},
   "outputs": [
    {
     "output_type": "execute_result",
     "data": {
      "text/plain": [
       "(170,\n",
       " ['match_result @ inform ( home = Arsenal ; home_score = 3 ; away = Watford ; away_score = 2 ; news = Watford relegated from Premier League as Aubameyang fires Arsenal win )',\n",
       "  'Watford relegated from Premier League as Aubameyang fires Arsenal to a 3-2 win.',\n",
       "  'Watford relegated from Premier League as Aubameyang fires Arsenal to a 3-2 win.'])"
      ]
     },
     "metadata": {},
     "execution_count": 9
    }
   ],
   "source": [
    "len(data), data[0]"
   ]
  },
  {
   "cell_type": "code",
   "execution_count": 10,
   "metadata": {},
   "outputs": [],
   "source": [
    "with open(filename+'.json', 'w') as f:\n",
    "    json.dump(data, f, indent=2)"
   ]
  },
  {
   "cell_type": "code",
   "execution_count": null,
   "metadata": {},
   "outputs": [],
   "source": []
  },
  {
   "cell_type": "code",
   "execution_count": null,
   "metadata": {},
   "outputs": [],
   "source": []
  }
 ],
 "metadata": {
  "kernelspec": {
   "display_name": "Python 3",
   "language": "python",
   "name": "python3"
  },
  "language_info": {
   "codemirror_mode": {
    "name": "ipython",
    "version": 3
   },
   "file_extension": ".py",
   "mimetype": "text/x-python",
   "name": "python",
   "nbconvert_exporter": "python",
   "pygments_lexer": "ipython3",
   "version": "3.8.5-final"
  }
 },
 "nbformat": 4,
 "nbformat_minor": 4
}
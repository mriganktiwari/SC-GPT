{
 "cells": [
  {
   "cell_type": "code",
   "execution_count": 1,
   "metadata": {},
   "outputs": [],
   "source": [
    "import json"
   ]
  },
  {
   "cell_type": "code",
   "execution_count": 2,
   "metadata": {},
   "outputs": [],
   "source": [
    "filename = 'test'"
   ]
  },
  {
   "cell_type": "code",
   "execution_count": 3,
   "metadata": {},
   "outputs": [],
   "source": [
    "data = []\n",
    "with open(filename+'.txt', 'rb') as f:\n",
    "    for line in f.readlines():\n",
    "        l=[]\n",
    "        l.append(line.decode().split(' & ')[0])\n",
    "        l.append(line.decode().split(' & ')[1].rstrip('\\n'))\n",
    "        l.append(line.decode().split(' & ')[1].rstrip('\\n'))\n",
    "        data.append(l)"
   ]
  },
  {
   "cell_type": "code",
   "execution_count": 4,
   "metadata": {},
   "outputs": [
    {
     "output_type": "execute_result",
     "data": {
      "text/plain": [
       "(3,\n",
       " ['inform @ match_result ( home = Sheffield United ; home_score = 1 ; away = West Ham United ; away_score = 0 ; news = VAR denies West Ham point against Sheffield United after goalkeeping woes return )',\n",
       "  'VAR denies West Ham United point against Sheffield United after their goalkeeping woes return in a 0-1 loss.',\n",
       "  'VAR denies West Ham United point against Sheffield United after their goalkeeping woes return in a 0-1 loss.'])"
      ]
     },
     "metadata": {},
     "execution_count": 4
    }
   ],
   "source": [
    "len(data), data[0]"
   ]
  },
  {
   "cell_type": "code",
   "execution_count": 5,
   "metadata": {},
   "outputs": [],
   "source": [
    "with open(filename+'.json', 'w') as f:\n",
    "    json.dump(data, f, indent=2)"
   ]
  },
  {
   "cell_type": "code",
   "execution_count": null,
   "metadata": {},
   "outputs": [],
   "source": []
  },
  {
   "cell_type": "code",
   "execution_count": null,
   "metadata": {},
   "outputs": [],
   "source": []
  }
 ],
 "metadata": {
  "kernelspec": {
   "display_name": "Python 3",
   "language": "python",
   "name": "python3"
  },
  "language_info": {
   "codemirror_mode": {
    "name": "ipython",
    "version": 3
   },
   "file_extension": ".py",
   "mimetype": "text/x-python",
   "name": "python",
   "nbconvert_exporter": "python",
   "pygments_lexer": "ipython3",
   "version": "3.8.5-final"
  }
 },
 "nbformat": 4,
 "nbformat_minor": 4
}